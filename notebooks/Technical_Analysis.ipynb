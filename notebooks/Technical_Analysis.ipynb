{
 "cells": [
  {
   "cell_type": "code",
   "execution_count": null,
   "metadata": {},
   "outputs": [],
   "source": [
    "from src.data_loader import load_all_stocks\n",
    "from src.technical_analysis import analyze_all_stocks\n",
    "import matplotlib.pyplot as plt\n",
    "\n",
    "# Load data\n",
    "stocks = load_all_stocks()\n",
    "analyzed_stocks = analyze_all_stocks(stocks)\n",
    "\n",
    "# Example: Compare RSI across stocks\n",
    "plt.figure(figsize=(12, 6))\n",
    "for ticker, df in analyzed_stocks.items():\n",
    "    plt.plot(df.index, df['RSI_14'], label=ticker)\n",
    "\n",
    "plt.axhline(70, color='r', linestyle='--')\n",
    "plt.axhline(30, color='g', linestyle='--')\n",
    "plt.title('Comparative RSI Analysis')\n",
    "plt.legend()\n",
    "plt.show()"
   ]
  }
 ],
 "metadata": {
  "kernelspec": {
   "display_name": "venv",
   "language": "python",
   "name": "python3"
  },
  "language_info": {
   "name": "python",
   "version": "3.11.9"
  }
 },
 "nbformat": 4,
 "nbformat_minor": 2
}

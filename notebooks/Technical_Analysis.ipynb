{
 "cells": [
  {
   "cell_type": "code",
   "execution_count": null,
   "metadata": {},
   "outputs": [],
   "source": [
    "# Cell 1: Setup\n",
    "import matplotlib.pyplot as plt\n",
    "import numpy as np  # <-- THIS WAS MISSING\n",
    "import sys\n",
    "import os\n",
    "sys.path.append(os.path.dirname(os.getcwd()))\n",
    "\n",
    "from src.data_loader import load_all_stocks\n",
    "from src.technical_analysis import analyze_all_stocks\n",
    "from src.visualization import plot_technical_analysis\n",
    "\n",
    "# Cell 2: Data Processing\n",
    "stocks = load_all_stocks()\n",
    "analyzed_stocks = analyze_all_stocks(stocks)\n",
    "\n",
    "# Cell 3: Corrected Comparative Analysis\n",
    "import numpy as np\n",
    "import matplotlib.dates as mdates\n",
    "\n",
    "plt.figure(figsize=(14, 7))\n",
    "\n",
    "# 1. Plot RSI lines with distinct colors\n",
    "color_cycle = plt.cycler(color=plt.cm.tab10.colors)\n",
    "for (ticker, df), style in zip(analyzed_stocks.items(), color_cycle):\n",
    "    plt.plot(df.index, df['RSI_14'], \n",
    "             label=ticker,\n",
    "             linewidth=2,\n",
    "             **style)\n",
    "\n",
    "# 2. Reference lines\n",
    "plt.axhline(70, color='red', linestyle='--', linewidth=1.5, label='Overbought (70)')\n",
    "plt.axhline(30, color='green', linestyle='--', linewidth=1.5, label='Oversold (30)')\n",
    "\n",
    "# 3. Professional formatting\n",
    "plt.title('Comparative RSI Analysis (14-day)', fontsize=16, pad=20)\n",
    "plt.xlabel('Date', fontsize=12)\n",
    "plt.ylabel('RSI Value', fontsize=12)\n",
    "plt.ylim(0, 100)  # Fix scale to standard RSI range\n",
    "plt.yticks(np.arange(0, 101, 10))  # Clear y-axis ticks\n",
    "plt.grid(True, alpha=0.3)\n",
    "\n",
    "# 4. Enhanced legend\n",
    "plt.legend(bbox_to_anchor=(1.02, 1), \n",
    "           loc='upper left',\n",
    "           frameon=True,\n",
    "           borderaxespad=0.)\n",
    "\n",
    "# Format dates on x-axis\n",
    "plt.gca().xaxis.set_major_formatter(mdates.DateFormatter('%Y-%m'))\n",
    "plt.gca().xaxis.set_major_locator(mdates.MonthLocator(interval=2))\n",
    "plt.xticks(rotation=45)\n",
    "\n",
    "plt.tight_layout()\n",
    "plt.show()\n",
    "\n",
    "# Cell 4: Individual Plots\n",
    "for ticker, df in analyzed_stocks.items():\n",
    "    plot_technical_analysis(df, ticker)"
   ]
  },
  {
   "cell_type": "code",
   "execution_count": null,
   "metadata": {},
   "outputs": [],
   "source": []
  }
 ],
 "metadata": {
  "kernelspec": {
   "display_name": "venv",
   "language": "python",
   "name": "python3"
  },
  "language_info": {
   "codemirror_mode": {
    "name": "ipython",
    "version": 3
   },
   "file_extension": ".py",
   "mimetype": "text/x-python",
   "name": "python",
   "nbconvert_exporter": "python",
   "pygments_lexer": "ipython3",
   "version": "3.11.9"
  }
 },
 "nbformat": 4,
 "nbformat_minor": 2
}

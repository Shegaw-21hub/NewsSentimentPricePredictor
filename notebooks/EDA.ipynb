{
 "cells": [
  {
   "cell_type": "code",
   "execution_count": null,
   "metadata": {},
   "outputs": [
    {
     "ename": "ModuleNotFoundError",
     "evalue": "No module named 'src'",
     "output_type": "error",
     "traceback": [
      "\u001b[31m---------------------------------------------------------------------------\u001b[39m",
      "\u001b[31mModuleNotFoundError\u001b[39m                       Traceback (most recent call last)",
      "\u001b[36mCell\u001b[39m\u001b[36m \u001b[39m\u001b[32mIn[16]\u001b[39m\u001b[32m, line 2\u001b[39m\n\u001b[32m      1\u001b[39m \u001b[38;5;28;01mimport\u001b[39;00m\u001b[38;5;250m \u001b[39m\u001b[34;01mpandas\u001b[39;00m\u001b[38;5;250m \u001b[39m\u001b[38;5;28;01mas\u001b[39;00m\u001b[38;5;250m \u001b[39m\u001b[34;01mpd\u001b[39;00m\n\u001b[32m----> \u001b[39m\u001b[32m2\u001b[39m \u001b[38;5;28;01mfrom\u001b[39;00m\u001b[38;5;250m \u001b[39m\u001b[34;01msrc\u001b[39;00m\u001b[34;01m.\u001b[39;00m\u001b[34;01mdata_stats\u001b[39;00m\u001b[38;5;250m \u001b[39m\u001b[38;5;28;01mimport\u001b[39;00m compute_headline_lengths, headline_word_counts\n\u001b[32m      3\u001b[39m \u001b[38;5;28;01mfrom\u001b[39;00m\u001b[38;5;250m \u001b[39m\u001b[34;01msrc\u001b[39;00m\u001b[34;01m.\u001b[39;00m\u001b[34;01mpublisher_analysis\u001b[39;00m\u001b[38;5;250m \u001b[39m\u001b[38;5;28;01mimport\u001b[39;00m count_publishers, extract_top_keywords\n\u001b[32m      4\u001b[39m \u001b[38;5;28;01mfrom\u001b[39;00m\u001b[38;5;250m \u001b[39m\u001b[34;01msrc\u001b[39;00m\u001b[34;01m.\u001b[39;00m\u001b[34;01mtime_analysis\u001b[39;00m\u001b[38;5;250m \u001b[39m\u001b[38;5;28;01mimport\u001b[39;00m enrich_time_features, get_daily_article_counts, get_hourly_distribution\n",
      "\u001b[31mModuleNotFoundError\u001b[39m: No module named 'src'"
     ]
    }
   ],
   "source": [
    "import pandas as pd\n",
    "from src.data_stats import compute_headline_lengths, headline_word_counts\n",
    "from src.publisher_analysis import count_publishers, extract_top_keywords\n",
    "from src.time_analysis import enrich_time_features, get_daily_article_counts, get_hourly_distribution\n",
    "from src.publisher_analysis import extract_top_keywords\n",
    "from src.visualize import plot_wordcloud\n",
    "\n",
    "# Load data\n",
    "df = pd.read_csv(\"../data/raw/news_data.csv\")\n",
    "\n",
    "# Descriptive statistics\n",
    "print(\"Headline Lengths:\\n\", compute_headline_lengths(df))\n",
    "print(\"Word Counts:\\n\", headline_word_counts(df))\n",
    "\n",
    "# Publisher Analysis\n",
    "print(\"Top Publishers:\\n\", count_publishers(df))\n",
    "print(\"Top Keywords:\\n\", extract_top_keywords(df))\n",
    "\n",
    "# Time Features\n",
    "df = enrich_time_features(df)\n",
    "print(\"Daily Article Counts:\\n\", get_daily_article_counts(df).head())\n",
    "print(\"Hourly Distribution:\\n\", get_hourly_distribution(df).head())\n",
    "# text_analysis\n",
    "top_keywords = extract_top_keywords(df, column='headline', max_features=20)\n",
    "print(\"🔑 Top Keywords in Headlines:\", top_keywords)\n",
    "\n",
    "# Visualizations\n",
    "plot_wordcloud(df)"
   ]
  }
 ],
 "metadata": {
  "kernelspec": {
   "display_name": "venv",
   "language": "python",
   "name": "python3"
  },
  "language_info": {
   "codemirror_mode": {
    "name": "ipython",
    "version": 3
   },
   "file_extension": ".py",
   "mimetype": "text/x-python",
   "name": "python",
   "nbconvert_exporter": "python",
   "pygments_lexer": "ipython3",
   "version": "3.11.9"
  }
 },
 "nbformat": 4,
 "nbformat_minor": 2
}

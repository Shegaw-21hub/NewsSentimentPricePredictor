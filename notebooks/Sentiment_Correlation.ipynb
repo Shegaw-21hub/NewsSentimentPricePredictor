{
 "cells": [
  {
   "cell_type": "code",
   "execution_count": null,
   "metadata": {},
   "outputs": [],
   "source": [
    "# Cell 1: Setup\n",
    "import sys\n",
    "sys.path.append('../src')\n",
    "import matplotlib.pyplot as plt\n",
    "from sentiment_analysis import analyze_news_sentiment\n",
    "from correlation_analysis import analyze_correlation\n",
    "\n",
    "# Cell 2: Load aligned data (from Phase 2)\n",
    "aligned_data = pd.read_csv('data/aligned_data.csv')\n",
    "\n",
    "# Cell 3: Visualize sentiment distribution\n",
    "sentiment_data = analyze_news_sentiment(aligned_data)\n",
    "sentiment_data['sentiment_label'].value_counts().plot(kind='bar')\n",
    "plt.title('News Sentiment Distribution')\n",
    "\n",
    "# Cell 4: Correlation analysis\n",
    "results = analyze_correlation(sentiment_data)\n",
    "plt.scatter(results['analysis_df']['sentiment'], \n",
    "            results['analysis_df']['returns'])\n",
    "plt.xlabel('Average Daily Sentiment')\n",
    "plt.ylabel('Daily Returns (%)')\n",
    "plt.title(f\"Correlation: {results['correlation']:.2f}\")"
   ]
  }
 ],
 "metadata": {
  "kernelspec": {
   "display_name": "venv",
   "language": "python",
   "name": "python3"
  },
  "language_info": {
   "codemirror_mode": {
    "name": "ipython",
    "version": 3
   },
   "file_extension": ".py",
   "mimetype": "text/x-python",
   "name": "python",
   "nbconvert_exporter": "python",
   "pygments_lexer": "ipython3",
   "version": "3.11.9"
  }
 },
 "nbformat": 4,
 "nbformat_minor": 2
}
